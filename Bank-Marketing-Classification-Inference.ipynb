{
 "cells": [
  {
   "cell_type": "code",
   "execution_count": 1,
   "metadata": {},
   "outputs": [],
   "source": [
    "# Import libraries\n",
    "import pickle\n",
    "import pandas as pd"
   ]
  },
  {
   "cell_type": "code",
   "execution_count": 2,
   "metadata": {},
   "outputs": [],
   "source": [
    "# Load model\n",
    "with open('model.pkl', 'rb') as model:\n",
    "    model = pickle.load(model)"
   ]
  },
  {
   "cell_type": "code",
   "execution_count": 25,
   "metadata": {},
   "outputs": [
    {
     "data": {
      "text/html": [
       "<div>\n",
       "<style scoped>\n",
       "    .dataframe tbody tr th:only-of-type {\n",
       "        vertical-align: middle;\n",
       "    }\n",
       "\n",
       "    .dataframe tbody tr th {\n",
       "        vertical-align: top;\n",
       "    }\n",
       "\n",
       "    .dataframe thead th {\n",
       "        text-align: right;\n",
       "    }\n",
       "</style>\n",
       "<table border=\"1\" class=\"dataframe\">\n",
       "  <thead>\n",
       "    <tr style=\"text-align: right;\">\n",
       "      <th></th>\n",
       "      <th>age</th>\n",
       "      <th>marital</th>\n",
       "      <th>education</th>\n",
       "      <th>balance</th>\n",
       "      <th>housing</th>\n",
       "      <th>loan</th>\n",
       "      <th>contact</th>\n",
       "      <th>duration</th>\n",
       "      <th>campaign</th>\n",
       "      <th>previous</th>\n",
       "      <th>outcome</th>\n",
       "      <th>job_high_skill</th>\n",
       "      <th>job_low_skill</th>\n",
       "      <th>job_no_skill</th>\n",
       "    </tr>\n",
       "  </thead>\n",
       "  <tbody>\n",
       "    <tr>\n",
       "      <th>0</th>\n",
       "      <td>45</td>\n",
       "      <td>married</td>\n",
       "      <td>primary</td>\n",
       "      <td>1500</td>\n",
       "      <td>no</td>\n",
       "      <td>yes</td>\n",
       "      <td>unknown</td>\n",
       "      <td>1260</td>\n",
       "      <td>2</td>\n",
       "      <td>0</td>\n",
       "      <td>unknown</td>\n",
       "      <td>0</td>\n",
       "      <td>1</td>\n",
       "      <td>0</td>\n",
       "    </tr>\n",
       "  </tbody>\n",
       "</table>\n",
       "</div>"
      ],
      "text/plain": [
       "   age  marital education  balance housing loan  contact  duration  campaign  \\\n",
       "0   45  married   primary     1500      no  yes  unknown      1260         2   \n",
       "\n",
       "   previous  outcome  job_high_skill  job_low_skill  job_no_skill  \n",
       "0         0  unknown               0              1             0  "
      ]
     },
     "execution_count": 25,
     "metadata": {},
     "output_type": "execute_result"
    }
   ],
   "source": [
    "# Create new data\n",
    "data_inf = {\n",
    "    'age' : 45,\n",
    "    'marital' : 'married',\n",
    "    'education' : 'primary',\n",
    "    'balance' : 1500,\n",
    "    'housing' : 'no',\n",
    "    'loan' : 'yes',\n",
    "    'contact' : 'unknown',\n",
    "    'duration' : 1260,\n",
    "    'campaign' : 2,\n",
    "    'previous' : 0,\n",
    "    'outcome' : 'unknown',\n",
    "    'job_high_skill' : 0,\n",
    "    'job_low_skill' : 1,\n",
    "    'job_no_skill' : 0\n",
    "}\n",
    "\n",
    "data_inf = pd.DataFrame([data_inf])\n",
    "data_inf"
   ]
  },
  {
   "cell_type": "code",
   "execution_count": 26,
   "metadata": {},
   "outputs": [
    {
     "data": {
      "text/plain": [
       "pandas.core.frame.DataFrame"
      ]
     },
     "execution_count": 26,
     "metadata": {},
     "output_type": "execute_result"
    }
   ],
   "source": [
    "type(data_inf)"
   ]
  },
  {
   "cell_type": "code",
   "execution_count": 27,
   "metadata": {},
   "outputs": [
    {
     "name": "stdout",
     "output_type": "stream",
     "text": [
      "Index(['age', 'marital', 'education', 'balance', 'housing', 'loan', 'contact',\n",
      "       'duration', 'campaign', 'previous', 'outcome', 'job_high_skill',\n",
      "       'job_low_skill', 'job_no_skill'],\n",
      "      dtype='object')\n"
     ]
    }
   ],
   "source": [
    "print(data_inf.columns)"
   ]
  },
  {
   "cell_type": "code",
   "execution_count": 28,
   "metadata": {},
   "outputs": [
    {
     "data": {
      "text/plain": [
       "array([1], dtype=int64)"
      ]
     },
     "execution_count": 28,
     "metadata": {},
     "output_type": "execute_result"
    }
   ],
   "source": [
    "# Predict using decision tree model\n",
    "pred_inf = model.predict(data_inf)\n",
    "pred_inf"
   ]
  },
  {
   "cell_type": "markdown",
   "metadata": {},
   "source": [
    "Model results: Subscribed"
   ]
  },
  {
   "cell_type": "code",
   "execution_count": 30,
   "metadata": {},
   "outputs": [
    {
     "data": {
      "text/html": [
       "<div>\n",
       "<style scoped>\n",
       "    .dataframe tbody tr th:only-of-type {\n",
       "        vertical-align: middle;\n",
       "    }\n",
       "\n",
       "    .dataframe tbody tr th {\n",
       "        vertical-align: top;\n",
       "    }\n",
       "\n",
       "    .dataframe thead th {\n",
       "        text-align: right;\n",
       "    }\n",
       "</style>\n",
       "<table border=\"1\" class=\"dataframe\">\n",
       "  <thead>\n",
       "    <tr style=\"text-align: right;\">\n",
       "      <th></th>\n",
       "      <th>age</th>\n",
       "      <th>marital</th>\n",
       "      <th>education</th>\n",
       "      <th>balance</th>\n",
       "      <th>housing</th>\n",
       "      <th>loan</th>\n",
       "      <th>contact</th>\n",
       "      <th>duration</th>\n",
       "      <th>campaign</th>\n",
       "      <th>previous</th>\n",
       "      <th>outcome</th>\n",
       "      <th>job_high_skill</th>\n",
       "      <th>job_low_skill</th>\n",
       "      <th>job_no_skill</th>\n",
       "    </tr>\n",
       "  </thead>\n",
       "  <tbody>\n",
       "    <tr>\n",
       "      <th>0</th>\n",
       "      <td>30</td>\n",
       "      <td>single</td>\n",
       "      <td>tertiary</td>\n",
       "      <td>1310</td>\n",
       "      <td>no</td>\n",
       "      <td>no</td>\n",
       "      <td>cellular</td>\n",
       "      <td>130</td>\n",
       "      <td>2</td>\n",
       "      <td>0</td>\n",
       "      <td>unknown</td>\n",
       "      <td>0</td>\n",
       "      <td>0</td>\n",
       "      <td>1</td>\n",
       "    </tr>\n",
       "  </tbody>\n",
       "</table>\n",
       "</div>"
      ],
      "text/plain": [
       "   age marital education  balance housing loan   contact  duration  campaign  \\\n",
       "0   30  single  tertiary     1310      no   no  cellular       130         2   \n",
       "\n",
       "   previous  outcome  job_high_skill  job_low_skill  job_no_skill  \n",
       "0         0  unknown               0              0             1  "
      ]
     },
     "execution_count": 30,
     "metadata": {},
     "output_type": "execute_result"
    }
   ],
   "source": [
    "# Create new data\n",
    "data_inf2 = {\n",
    "    'age' : 30,\n",
    "    'marital' : 'single',\n",
    "    'education' : 'tertiary',\n",
    "    'balance' : 1310,\n",
    "    'housing' : 'no',\n",
    "    'loan' : 'no',\n",
    "    'contact' : 'cellular',\n",
    "    'duration' : 130,\n",
    "    'campaign' : 2,\n",
    "    'previous' : 0,\n",
    "    'outcome' : 'unknown',\n",
    "    'job_high_skill' : 0,\n",
    "    'job_low_skill' : 0,\n",
    "    'job_no_skill' : 1\n",
    "}\n",
    "\n",
    "data_inf2 = pd.DataFrame([data_inf2])\n",
    "data_inf2"
   ]
  },
  {
   "cell_type": "code",
   "execution_count": 31,
   "metadata": {},
   "outputs": [
    {
     "data": {
      "text/plain": [
       "array([0], dtype=int64)"
      ]
     },
     "execution_count": 31,
     "metadata": {},
     "output_type": "execute_result"
    }
   ],
   "source": [
    "# Predict using decision tree model\n",
    "pred_inf2 = model.predict(data_inf2)\n",
    "pred_inf2"
   ]
  },
  {
   "cell_type": "markdown",
   "metadata": {},
   "source": [
    "Model results: Not Subscribed"
   ]
  }
 ],
 "metadata": {
  "kernelspec": {
   "display_name": "base",
   "language": "python",
   "name": "python3"
  },
  "language_info": {
   "codemirror_mode": {
    "name": "ipython",
    "version": 3
   },
   "file_extension": ".py",
   "mimetype": "text/x-python",
   "name": "python",
   "nbconvert_exporter": "python",
   "pygments_lexer": "ipython3",
   "version": "3.12.7"
  }
 },
 "nbformat": 4,
 "nbformat_minor": 2
}
